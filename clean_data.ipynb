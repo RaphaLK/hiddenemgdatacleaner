{
 "cells": [
  {
   "cell_type": "code",
   "execution_count": 10,
   "metadata": {},
   "outputs": [],
   "source": [
    "import numpy as np\n",
    "import librosa"
   ]
  },
  {
   "cell_type": "code",
   "execution_count": 23,
   "metadata": {},
   "outputs": [],
   "source": [
    "# EMG Data Shape Info: Shape info: (10319,41)\n",
    "\"\"\" The EMG Data was measured at 2048 Hz, therefore with an estimated video length of 5 seconds, we would see roughly 10240 samples.\n",
    "    Therefore, we can safely assume that the data presented is the EMG Signals collected from 40 channels every 0.00048828125 seconds and an additional channel\n",
    "    pull high only at the start of each utterance\n",
    "\"\"\"\n",
    "emg_data = np.load('Spk1_Block1-Initial_0001_emg.npy')\n",
    "\n",
    "audio_file = 'Spk1_Block1-Initial_0001_audio.wav'\n",
    "sr = 16000\n",
    "audio_data, sr = librosa.load(audio_file, sr=sr)\n",
    "\n",
    "emg_signals = emg_data[:-1, :]\n",
    "# This one signifies when a user speaks and doesn't\n",
    "marker_channel = emg_data[-1, :]\n",
    "\n",
    "window_size = 100\n",
    "hop_length = 50\n",
    "\n",
    "audio_hop_length = sr // 100\n",
    "n_mfcc =13\n",
    "\n",
    "audio_mfccs = librosa.feature.mfcc(y=audio_data, sr=sr, n_mfcc=n_mfcc, hop_length=audio_hop_length)"
   ]
  },
  {
   "cell_type": "code",
   "execution_count": 26,
   "metadata": {},
   "outputs": [
    {
     "name": "stdout",
     "output_type": "stream",
     "text": [
      "(13, 505)\n"
     ]
    }
   ],
   "source": [
    "def extract_emg_features(emg_signal):\n",
    "  # Mean absolute value\n",
    "  mav = np.mean(np.abs(emg_signal))\n",
    "  # root mean square\\\n",
    "  rms = np.sqrt(np.mean(emg_signal ** 2))\n",
    "  return mav, rms\n",
    "\n",
    "emg_features = []\n",
    "\n",
    "# Process each channel\n",
    "for ch in range(emg_signals.shape[1]):\n",
    "  channel_features = []\n",
    "  for i in range(0, emg_signals.shape[0] - window_size, hop_length):\n",
    "    window = emg_signals[i:i + window_size, ch]\n",
    "    mav, rms = extract_emg_features(window)\n",
    "    channel_features.append([mav, rms])\n",
    "  emg_features.append(channel_features)\n",
    "\n",
    "emg_features = np.array(emg_features)\n",
    "print(audio_mfccs.shape)"
   ]
  }
 ],
 "metadata": {
  "kernelspec": {
   "display_name": "Python 3",
   "language": "python",
   "name": "python3"
  },
  "language_info": {
   "codemirror_mode": {
    "name": "ipython",
    "version": 3
   },
   "file_extension": ".py",
   "mimetype": "text/x-python",
   "name": "python",
   "nbconvert_exporter": "python",
   "pygments_lexer": "ipython3",
   "version": "3.11.9"
  }
 },
 "nbformat": 4,
 "nbformat_minor": 2
}
